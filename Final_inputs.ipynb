{
 "cells": [
  {
   "cell_type": "code",
   "execution_count": 29,
   "metadata": {},
   "outputs": [],
   "source": [
    "import pandas as pd\n",
    "data=pd.read_pickle('saved/normalized_data')"
   ]
  },
  {
   "cell_type": "code",
   "execution_count": 30,
   "metadata": {},
   "outputs": [
    {
     "name": "stdout",
     "output_type": "stream",
     "text": [
      "8\n"
     ]
    },
    {
     "data": {
      "text/html": [
       "<div>\n",
       "<style scoped>\n",
       "    .dataframe tbody tr th:only-of-type {\n",
       "        vertical-align: middle;\n",
       "    }\n",
       "\n",
       "    .dataframe tbody tr th {\n",
       "        vertical-align: top;\n",
       "    }\n",
       "\n",
       "    .dataframe thead th {\n",
       "        text-align: right;\n",
       "    }\n",
       "</style>\n",
       "<table border=\"1\" class=\"dataframe\">\n",
       "  <thead>\n",
       "    <tr style=\"text-align: right;\">\n",
       "      <th></th>\n",
       "      <th>Summary</th>\n",
       "      <th>Precip Type</th>\n",
       "      <th>Temperature Gradient</th>\n",
       "      <th>Humidity</th>\n",
       "      <th>Wind Speed</th>\n",
       "      <th>Wind Bearing Gradient</th>\n",
       "      <th>Visibility</th>\n",
       "      <th>Pressure</th>\n",
       "    </tr>\n",
       "  </thead>\n",
       "  <tbody>\n",
       "    <tr>\n",
       "      <th>0</th>\n",
       "      <td>4</td>\n",
       "      <td>1.0</td>\n",
       "      <td>0.460490</td>\n",
       "      <td>0.86</td>\n",
       "      <td>0.223399</td>\n",
       "      <td>0.511142</td>\n",
       "      <td>0.983</td>\n",
       "      <td>0.970613</td>\n",
       "    </tr>\n",
       "    <tr>\n",
       "      <th>1</th>\n",
       "      <td>8</td>\n",
       "      <td>1.0</td>\n",
       "      <td>0.462978</td>\n",
       "      <td>0.89</td>\n",
       "      <td>0.061523</td>\n",
       "      <td>0.423398</td>\n",
       "      <td>0.929</td>\n",
       "      <td>0.970909</td>\n",
       "    </tr>\n",
       "    <tr>\n",
       "      <th>2</th>\n",
       "      <td>4</td>\n",
       "      <td>1.0</td>\n",
       "      <td>0.443073</td>\n",
       "      <td>0.83</td>\n",
       "      <td>0.220877</td>\n",
       "      <td>0.590529</td>\n",
       "      <td>0.983</td>\n",
       "      <td>0.971358</td>\n",
       "    </tr>\n",
       "    <tr>\n",
       "      <th>3</th>\n",
       "      <td>8</td>\n",
       "      <td>1.0</td>\n",
       "      <td>0.470939</td>\n",
       "      <td>0.83</td>\n",
       "      <td>0.172970</td>\n",
       "      <td>0.486072</td>\n",
       "      <td>0.983</td>\n",
       "      <td>0.971454</td>\n",
       "    </tr>\n",
       "    <tr>\n",
       "      <th>4</th>\n",
       "      <td>4</td>\n",
       "      <td>1.0</td>\n",
       "      <td>0.470939</td>\n",
       "      <td>0.85</td>\n",
       "      <td>0.218608</td>\n",
       "      <td>0.498607</td>\n",
       "      <td>0.929</td>\n",
       "      <td>0.971597</td>\n",
       "    </tr>\n",
       "  </tbody>\n",
       "</table>\n",
       "</div>"
      ],
      "text/plain": [
       "   Summary  Precip Type  Temperature Gradient  Humidity  Wind Speed  \\\n",
       "0        4          1.0              0.460490      0.86    0.223399   \n",
       "1        8          1.0              0.462978      0.89    0.061523   \n",
       "2        4          1.0              0.443073      0.83    0.220877   \n",
       "3        8          1.0              0.470939      0.83    0.172970   \n",
       "4        4          1.0              0.470939      0.85    0.218608   \n",
       "\n",
       "   Wind Bearing Gradient  Visibility  Pressure  \n",
       "0               0.511142       0.983  0.970613  \n",
       "1               0.423398       0.929  0.970909  \n",
       "2               0.590529       0.983  0.971358  \n",
       "3               0.486072       0.983  0.971454  \n",
       "4               0.498607       0.929  0.971597  "
      ]
     },
     "execution_count": 30,
     "metadata": {},
     "output_type": "execute_result"
    }
   ],
   "source": [
    "weights=[8,16,4,8,2,2,-5,4]\n",
    "w=pd.Series(weights)\n",
    "print(w.shape[0])\n",
    "data.head()"
   ]
  },
  {
   "cell_type": "code",
   "execution_count": 31,
   "metadata": {
    "scrolled": true
   },
   "outputs": [
    {
     "data": {
      "text/html": [
       "<div>\n",
       "<style scoped>\n",
       "    .dataframe tbody tr th:only-of-type {\n",
       "        vertical-align: middle;\n",
       "    }\n",
       "\n",
       "    .dataframe tbody tr th {\n",
       "        vertical-align: top;\n",
       "    }\n",
       "\n",
       "    .dataframe thead th {\n",
       "        text-align: right;\n",
       "    }\n",
       "</style>\n",
       "<table border=\"1\" class=\"dataframe\">\n",
       "  <thead>\n",
       "    <tr style=\"text-align: right;\">\n",
       "      <th></th>\n",
       "      <th>Summary</th>\n",
       "      <th>Precip Type</th>\n",
       "      <th>Temperature Gradient</th>\n",
       "      <th>Humidity</th>\n",
       "      <th>Wind Speed</th>\n",
       "      <th>Wind Bearing Gradient</th>\n",
       "      <th>Visibility</th>\n",
       "      <th>Pressure</th>\n",
       "    </tr>\n",
       "  </thead>\n",
       "  <tbody>\n",
       "    <tr>\n",
       "      <th>0</th>\n",
       "      <td>32</td>\n",
       "      <td>16.0</td>\n",
       "      <td>1.841959</td>\n",
       "      <td>6.88</td>\n",
       "      <td>0.446798</td>\n",
       "      <td>1.022284</td>\n",
       "      <td>-4.915</td>\n",
       "      <td>3.882452</td>\n",
       "    </tr>\n",
       "    <tr>\n",
       "      <th>1</th>\n",
       "      <td>64</td>\n",
       "      <td>16.0</td>\n",
       "      <td>1.851911</td>\n",
       "      <td>7.12</td>\n",
       "      <td>0.123046</td>\n",
       "      <td>0.846797</td>\n",
       "      <td>-4.645</td>\n",
       "      <td>3.883637</td>\n",
       "    </tr>\n",
       "    <tr>\n",
       "      <th>2</th>\n",
       "      <td>32</td>\n",
       "      <td>16.0</td>\n",
       "      <td>1.772293</td>\n",
       "      <td>6.64</td>\n",
       "      <td>0.441755</td>\n",
       "      <td>1.181058</td>\n",
       "      <td>-4.915</td>\n",
       "      <td>3.885434</td>\n",
       "    </tr>\n",
       "    <tr>\n",
       "      <th>3</th>\n",
       "      <td>64</td>\n",
       "      <td>16.0</td>\n",
       "      <td>1.883758</td>\n",
       "      <td>6.64</td>\n",
       "      <td>0.345940</td>\n",
       "      <td>0.972145</td>\n",
       "      <td>-4.915</td>\n",
       "      <td>3.885816</td>\n",
       "    </tr>\n",
       "    <tr>\n",
       "      <th>4</th>\n",
       "      <td>32</td>\n",
       "      <td>16.0</td>\n",
       "      <td>1.883758</td>\n",
       "      <td>6.80</td>\n",
       "      <td>0.437216</td>\n",
       "      <td>0.997214</td>\n",
       "      <td>-4.645</td>\n",
       "      <td>3.886389</td>\n",
       "    </tr>\n",
       "    <tr>\n",
       "      <th>5</th>\n",
       "      <td>32</td>\n",
       "      <td>16.0</td>\n",
       "      <td>1.743631</td>\n",
       "      <td>7.60</td>\n",
       "      <td>0.387292</td>\n",
       "      <td>1.002786</td>\n",
       "      <td>-3.100</td>\n",
       "      <td>3.886619</td>\n",
       "    </tr>\n",
       "    <tr>\n",
       "      <th>6</th>\n",
       "      <td>32</td>\n",
       "      <td>16.0</td>\n",
       "      <td>1.924761</td>\n",
       "      <td>7.12</td>\n",
       "      <td>0.443268</td>\n",
       "      <td>1.002786</td>\n",
       "      <td>-3.100</td>\n",
       "      <td>3.887077</td>\n",
       "    </tr>\n",
       "    <tr>\n",
       "      <th>7</th>\n",
       "      <td>32</td>\n",
       "      <td>16.0</td>\n",
       "      <td>1.997213</td>\n",
       "      <td>6.56</td>\n",
       "      <td>0.354513</td>\n",
       "      <td>0.997214</td>\n",
       "      <td>-3.100</td>\n",
       "      <td>3.889103</td>\n",
       "    </tr>\n",
       "    <tr>\n",
       "      <th>8</th>\n",
       "      <td>32</td>\n",
       "      <td>16.0</td>\n",
       "      <td>2.061704</td>\n",
       "      <td>5.76</td>\n",
       "      <td>0.392335</td>\n",
       "      <td>1.055710</td>\n",
       "      <td>-3.100</td>\n",
       "      <td>3.888530</td>\n",
       "    </tr>\n",
       "    <tr>\n",
       "      <th>9</th>\n",
       "      <td>32</td>\n",
       "      <td>16.0</td>\n",
       "      <td>2.011146</td>\n",
       "      <td>5.36</td>\n",
       "      <td>0.550177</td>\n",
       "      <td>1.030641</td>\n",
       "      <td>-3.480</td>\n",
       "      <td>3.889295</td>\n",
       "    </tr>\n",
       "  </tbody>\n",
       "</table>\n",
       "</div>"
      ],
      "text/plain": [
       "   Summary  Precip Type  Temperature Gradient  Humidity  Wind Speed  \\\n",
       "0       32         16.0              1.841959      6.88    0.446798   \n",
       "1       64         16.0              1.851911      7.12    0.123046   \n",
       "2       32         16.0              1.772293      6.64    0.441755   \n",
       "3       64         16.0              1.883758      6.64    0.345940   \n",
       "4       32         16.0              1.883758      6.80    0.437216   \n",
       "5       32         16.0              1.743631      7.60    0.387292   \n",
       "6       32         16.0              1.924761      7.12    0.443268   \n",
       "7       32         16.0              1.997213      6.56    0.354513   \n",
       "8       32         16.0              2.061704      5.76    0.392335   \n",
       "9       32         16.0              2.011146      5.36    0.550177   \n",
       "\n",
       "   Wind Bearing Gradient  Visibility  Pressure  \n",
       "0               1.022284      -4.915  3.882452  \n",
       "1               0.846797      -4.645  3.883637  \n",
       "2               1.181058      -4.915  3.885434  \n",
       "3               0.972145      -4.915  3.885816  \n",
       "4               0.997214      -4.645  3.886389  \n",
       "5               1.002786      -3.100  3.886619  \n",
       "6               1.002786      -3.100  3.887077  \n",
       "7               0.997214      -3.100  3.889103  \n",
       "8               1.055710      -3.100  3.888530  \n",
       "9               1.030641      -3.480  3.889295  "
      ]
     },
     "execution_count": 31,
     "metadata": {},
     "output_type": "execute_result"
    }
   ],
   "source": [
    "df_new = data* w.values\n",
    "df_new.head(10)"
   ]
  },
  {
   "cell_type": "code",
   "execution_count": 4,
   "metadata": {},
   "outputs": [],
   "source": [
    "df_new.to_pickle('saved/new_dataframe')"
   ]
  },
  {
   "cell_type": "code",
   "execution_count": 5,
   "metadata": {},
   "outputs": [],
   "source": [
    "#snow_data=df_new[data['Precip Type'] == -1]\n",
    "#snow_data.head(10)\n",
    "#snow_data.loc[:,'Precip Type'].replace(-50.0,50.0,inplace=True)"
   ]
  },
  {
   "cell_type": "code",
   "execution_count": 6,
   "metadata": {},
   "outputs": [],
   "source": [
    "df_new.loc[:,'Precip Type'].replace(-50.0,100.0,inplace=True)"
   ]
  },
  {
   "cell_type": "code",
   "execution_count": 7,
   "metadata": {},
   "outputs": [
    {
     "data": {
      "text/html": [
       "<div>\n",
       "<style scoped>\n",
       "    .dataframe tbody tr th:only-of-type {\n",
       "        vertical-align: middle;\n",
       "    }\n",
       "\n",
       "    .dataframe tbody tr th {\n",
       "        vertical-align: top;\n",
       "    }\n",
       "\n",
       "    .dataframe thead th {\n",
       "        text-align: right;\n",
       "    }\n",
       "</style>\n",
       "<table border=\"1\" class=\"dataframe\">\n",
       "  <thead>\n",
       "    <tr style=\"text-align: right;\">\n",
       "      <th></th>\n",
       "      <th>Summary</th>\n",
       "      <th>Precip Type</th>\n",
       "      <th>Temperature Gradient</th>\n",
       "      <th>Humidity</th>\n",
       "      <th>Wind Speed</th>\n",
       "      <th>Wind Bearing Gradient</th>\n",
       "      <th>Visibility</th>\n",
       "      <th>Pressure</th>\n",
       "    </tr>\n",
       "  </thead>\n",
       "  <tbody>\n",
       "    <tr>\n",
       "      <th>0</th>\n",
       "      <td>32</td>\n",
       "      <td>16.0</td>\n",
       "      <td>1.841959</td>\n",
       "      <td>6.88</td>\n",
       "      <td>0.446798</td>\n",
       "      <td>1.022284</td>\n",
       "      <td>-4.915</td>\n",
       "      <td>3.882452</td>\n",
       "    </tr>\n",
       "    <tr>\n",
       "      <th>1</th>\n",
       "      <td>64</td>\n",
       "      <td>16.0</td>\n",
       "      <td>1.851911</td>\n",
       "      <td>7.12</td>\n",
       "      <td>0.123046</td>\n",
       "      <td>0.846797</td>\n",
       "      <td>-4.645</td>\n",
       "      <td>3.883637</td>\n",
       "    </tr>\n",
       "    <tr>\n",
       "      <th>2</th>\n",
       "      <td>32</td>\n",
       "      <td>16.0</td>\n",
       "      <td>1.772293</td>\n",
       "      <td>6.64</td>\n",
       "      <td>0.441755</td>\n",
       "      <td>1.181058</td>\n",
       "      <td>-4.915</td>\n",
       "      <td>3.885434</td>\n",
       "    </tr>\n",
       "    <tr>\n",
       "      <th>3</th>\n",
       "      <td>64</td>\n",
       "      <td>16.0</td>\n",
       "      <td>1.883758</td>\n",
       "      <td>6.64</td>\n",
       "      <td>0.345940</td>\n",
       "      <td>0.972145</td>\n",
       "      <td>-4.915</td>\n",
       "      <td>3.885816</td>\n",
       "    </tr>\n",
       "    <tr>\n",
       "      <th>4</th>\n",
       "      <td>32</td>\n",
       "      <td>16.0</td>\n",
       "      <td>1.883758</td>\n",
       "      <td>6.80</td>\n",
       "      <td>0.437216</td>\n",
       "      <td>0.997214</td>\n",
       "      <td>-4.645</td>\n",
       "      <td>3.886389</td>\n",
       "    </tr>\n",
       "    <tr>\n",
       "      <th>5</th>\n",
       "      <td>32</td>\n",
       "      <td>16.0</td>\n",
       "      <td>1.743631</td>\n",
       "      <td>7.60</td>\n",
       "      <td>0.387292</td>\n",
       "      <td>1.002786</td>\n",
       "      <td>-3.100</td>\n",
       "      <td>3.886619</td>\n",
       "    </tr>\n",
       "    <tr>\n",
       "      <th>6</th>\n",
       "      <td>32</td>\n",
       "      <td>16.0</td>\n",
       "      <td>1.924761</td>\n",
       "      <td>7.12</td>\n",
       "      <td>0.443268</td>\n",
       "      <td>1.002786</td>\n",
       "      <td>-3.100</td>\n",
       "      <td>3.887077</td>\n",
       "    </tr>\n",
       "    <tr>\n",
       "      <th>7</th>\n",
       "      <td>32</td>\n",
       "      <td>16.0</td>\n",
       "      <td>1.997213</td>\n",
       "      <td>6.56</td>\n",
       "      <td>0.354513</td>\n",
       "      <td>0.997214</td>\n",
       "      <td>-3.100</td>\n",
       "      <td>3.889103</td>\n",
       "    </tr>\n",
       "    <tr>\n",
       "      <th>8</th>\n",
       "      <td>32</td>\n",
       "      <td>16.0</td>\n",
       "      <td>2.061704</td>\n",
       "      <td>5.76</td>\n",
       "      <td>0.392335</td>\n",
       "      <td>1.055710</td>\n",
       "      <td>-3.100</td>\n",
       "      <td>3.888530</td>\n",
       "    </tr>\n",
       "    <tr>\n",
       "      <th>9</th>\n",
       "      <td>32</td>\n",
       "      <td>16.0</td>\n",
       "      <td>2.011146</td>\n",
       "      <td>5.36</td>\n",
       "      <td>0.550177</td>\n",
       "      <td>1.030641</td>\n",
       "      <td>-3.480</td>\n",
       "      <td>3.889295</td>\n",
       "    </tr>\n",
       "  </tbody>\n",
       "</table>\n",
       "</div>"
      ],
      "text/plain": [
       "   Summary  Precip Type  Temperature Gradient  Humidity  Wind Speed  \\\n",
       "0       32         16.0              1.841959      6.88    0.446798   \n",
       "1       64         16.0              1.851911      7.12    0.123046   \n",
       "2       32         16.0              1.772293      6.64    0.441755   \n",
       "3       64         16.0              1.883758      6.64    0.345940   \n",
       "4       32         16.0              1.883758      6.80    0.437216   \n",
       "5       32         16.0              1.743631      7.60    0.387292   \n",
       "6       32         16.0              1.924761      7.12    0.443268   \n",
       "7       32         16.0              1.997213      6.56    0.354513   \n",
       "8       32         16.0              2.061704      5.76    0.392335   \n",
       "9       32         16.0              2.011146      5.36    0.550177   \n",
       "\n",
       "   Wind Bearing Gradient  Visibility  Pressure  \n",
       "0               1.022284      -4.915  3.882452  \n",
       "1               0.846797      -4.645  3.883637  \n",
       "2               1.181058      -4.915  3.885434  \n",
       "3               0.972145      -4.915  3.885816  \n",
       "4               0.997214      -4.645  3.886389  \n",
       "5               1.002786      -3.100  3.886619  \n",
       "6               1.002786      -3.100  3.887077  \n",
       "7               0.997214      -3.100  3.889103  \n",
       "8               1.055710      -3.100  3.888530  \n",
       "9               1.030641      -3.480  3.889295  "
      ]
     },
     "execution_count": 7,
     "metadata": {},
     "output_type": "execute_result"
    }
   ],
   "source": [
    "df_new.head(10)"
   ]
  },
  {
   "cell_type": "code",
   "execution_count": 8,
   "metadata": {},
   "outputs": [
    {
     "data": {
      "text/html": [
       "<div>\n",
       "<style scoped>\n",
       "    .dataframe tbody tr th:only-of-type {\n",
       "        vertical-align: middle;\n",
       "    }\n",
       "\n",
       "    .dataframe tbody tr th {\n",
       "        vertical-align: top;\n",
       "    }\n",
       "\n",
       "    .dataframe thead th {\n",
       "        text-align: right;\n",
       "    }\n",
       "</style>\n",
       "<table border=\"1\" class=\"dataframe\">\n",
       "  <thead>\n",
       "    <tr style=\"text-align: right;\">\n",
       "      <th></th>\n",
       "      <th>Summary</th>\n",
       "      <th>Precip Type</th>\n",
       "      <th>Temperature Gradient</th>\n",
       "      <th>Humidity</th>\n",
       "      <th>Wind Speed</th>\n",
       "      <th>Wind Bearing Gradient</th>\n",
       "      <th>Visibility</th>\n",
       "      <th>Pressure</th>\n",
       "      <th>Sum</th>\n",
       "    </tr>\n",
       "  </thead>\n",
       "  <tbody>\n",
       "    <tr>\n",
       "      <th>0</th>\n",
       "      <td>32</td>\n",
       "      <td>16.0</td>\n",
       "      <td>1.841959</td>\n",
       "      <td>6.88</td>\n",
       "      <td>0.446798</td>\n",
       "      <td>1.022284</td>\n",
       "      <td>-4.915</td>\n",
       "      <td>3.882452</td>\n",
       "      <td>57.158492</td>\n",
       "    </tr>\n",
       "    <tr>\n",
       "      <th>1</th>\n",
       "      <td>64</td>\n",
       "      <td>16.0</td>\n",
       "      <td>1.851911</td>\n",
       "      <td>7.12</td>\n",
       "      <td>0.123046</td>\n",
       "      <td>0.846797</td>\n",
       "      <td>-4.645</td>\n",
       "      <td>3.883637</td>\n",
       "      <td>89.180390</td>\n",
       "    </tr>\n",
       "    <tr>\n",
       "      <th>2</th>\n",
       "      <td>32</td>\n",
       "      <td>16.0</td>\n",
       "      <td>1.772293</td>\n",
       "      <td>6.64</td>\n",
       "      <td>0.441755</td>\n",
       "      <td>1.181058</td>\n",
       "      <td>-4.915</td>\n",
       "      <td>3.885434</td>\n",
       "      <td>57.005540</td>\n",
       "    </tr>\n",
       "    <tr>\n",
       "      <th>3</th>\n",
       "      <td>64</td>\n",
       "      <td>16.0</td>\n",
       "      <td>1.883758</td>\n",
       "      <td>6.64</td>\n",
       "      <td>0.345940</td>\n",
       "      <td>0.972145</td>\n",
       "      <td>-4.915</td>\n",
       "      <td>3.885816</td>\n",
       "      <td>88.812659</td>\n",
       "    </tr>\n",
       "    <tr>\n",
       "      <th>4</th>\n",
       "      <td>32</td>\n",
       "      <td>16.0</td>\n",
       "      <td>1.883758</td>\n",
       "      <td>6.80</td>\n",
       "      <td>0.437216</td>\n",
       "      <td>0.997214</td>\n",
       "      <td>-4.645</td>\n",
       "      <td>3.886389</td>\n",
       "      <td>57.359578</td>\n",
       "    </tr>\n",
       "  </tbody>\n",
       "</table>\n",
       "</div>"
      ],
      "text/plain": [
       "   Summary  Precip Type  Temperature Gradient  Humidity  Wind Speed  \\\n",
       "0       32         16.0              1.841959      6.88    0.446798   \n",
       "1       64         16.0              1.851911      7.12    0.123046   \n",
       "2       32         16.0              1.772293      6.64    0.441755   \n",
       "3       64         16.0              1.883758      6.64    0.345940   \n",
       "4       32         16.0              1.883758      6.80    0.437216   \n",
       "\n",
       "   Wind Bearing Gradient  Visibility  Pressure        Sum  \n",
       "0               1.022284      -4.915  3.882452  57.158492  \n",
       "1               0.846797      -4.645  3.883637  89.180390  \n",
       "2               1.181058      -4.915  3.885434  57.005540  \n",
       "3               0.972145      -4.915  3.885816  88.812659  \n",
       "4               0.997214      -4.645  3.886389  57.359578  "
      ]
     },
     "execution_count": 8,
     "metadata": {},
     "output_type": "execute_result"
    }
   ],
   "source": [
    "df_new['Sum']=df_new.sum(axis=1)\n",
    "df_new.head()"
   ]
  },
  {
   "cell_type": "code",
   "execution_count": 9,
   "metadata": {},
   "outputs": [
    {
     "data": {
      "text/html": [
       "<div>\n",
       "<style scoped>\n",
       "    .dataframe tbody tr th:only-of-type {\n",
       "        vertical-align: middle;\n",
       "    }\n",
       "\n",
       "    .dataframe tbody tr th {\n",
       "        vertical-align: top;\n",
       "    }\n",
       "\n",
       "    .dataframe thead th {\n",
       "        text-align: right;\n",
       "    }\n",
       "</style>\n",
       "<table border=\"1\" class=\"dataframe\">\n",
       "  <thead>\n",
       "    <tr style=\"text-align: right;\">\n",
       "      <th></th>\n",
       "      <th>Summary</th>\n",
       "      <th>Precip Type</th>\n",
       "      <th>Temperature Gradient</th>\n",
       "      <th>Humidity</th>\n",
       "      <th>Wind Speed</th>\n",
       "      <th>Wind Bearing Gradient</th>\n",
       "      <th>Visibility</th>\n",
       "      <th>Pressure</th>\n",
       "    </tr>\n",
       "  </thead>\n",
       "  <tbody>\n",
       "    <tr>\n",
       "      <th>0</th>\n",
       "      <td>32</td>\n",
       "      <td>16.0</td>\n",
       "      <td>1.841959</td>\n",
       "      <td>6.88</td>\n",
       "      <td>0.446798</td>\n",
       "      <td>1.022284</td>\n",
       "      <td>-4.915</td>\n",
       "      <td>3.882452</td>\n",
       "    </tr>\n",
       "    <tr>\n",
       "      <th>1</th>\n",
       "      <td>64</td>\n",
       "      <td>16.0</td>\n",
       "      <td>1.851911</td>\n",
       "      <td>7.12</td>\n",
       "      <td>0.123046</td>\n",
       "      <td>0.846797</td>\n",
       "      <td>-4.645</td>\n",
       "      <td>3.883637</td>\n",
       "    </tr>\n",
       "    <tr>\n",
       "      <th>2</th>\n",
       "      <td>32</td>\n",
       "      <td>16.0</td>\n",
       "      <td>1.772293</td>\n",
       "      <td>6.64</td>\n",
       "      <td>0.441755</td>\n",
       "      <td>1.181058</td>\n",
       "      <td>-4.915</td>\n",
       "      <td>3.885434</td>\n",
       "    </tr>\n",
       "    <tr>\n",
       "      <th>3</th>\n",
       "      <td>64</td>\n",
       "      <td>16.0</td>\n",
       "      <td>1.883758</td>\n",
       "      <td>6.64</td>\n",
       "      <td>0.345940</td>\n",
       "      <td>0.972145</td>\n",
       "      <td>-4.915</td>\n",
       "      <td>3.885816</td>\n",
       "    </tr>\n",
       "    <tr>\n",
       "      <th>4</th>\n",
       "      <td>32</td>\n",
       "      <td>16.0</td>\n",
       "      <td>1.883758</td>\n",
       "      <td>6.80</td>\n",
       "      <td>0.437216</td>\n",
       "      <td>0.997214</td>\n",
       "      <td>-4.645</td>\n",
       "      <td>3.886389</td>\n",
       "    </tr>\n",
       "  </tbody>\n",
       "</table>\n",
       "</div>"
      ],
      "text/plain": [
       "   Summary  Precip Type  Temperature Gradient  Humidity  Wind Speed  \\\n",
       "0       32         16.0              1.841959      6.88    0.446798   \n",
       "1       64         16.0              1.851911      7.12    0.123046   \n",
       "2       32         16.0              1.772293      6.64    0.441755   \n",
       "3       64         16.0              1.883758      6.64    0.345940   \n",
       "4       32         16.0              1.883758      6.80    0.437216   \n",
       "\n",
       "   Wind Bearing Gradient  Visibility  Pressure  \n",
       "0               1.022284      -4.915  3.882452  \n",
       "1               0.846797      -4.645  3.883637  \n",
       "2               1.181058      -4.915  3.885434  \n",
       "3               0.972145      -4.915  3.885816  \n",
       "4               0.997214      -4.645  3.886389  "
      ]
     },
     "execution_count": 9,
     "metadata": {},
     "output_type": "execute_result"
    }
   ],
   "source": [
    "df_new.loc[df_new.Sum>65.337,'Prediction']=1\n",
    "df_new.loc[df_new.Sum<65.337,'Prediction']=0\n",
    "data = df_new.drop(['Sum'],axis=1,inplace=True)\n",
    "y_pred=df_new['Prediction']\n",
    "data = df_new.drop(['Prediction'],axis=1)\n",
    "data.head()"
   ]
  },
  {
   "cell_type": "code",
   "execution_count": 10,
   "metadata": {},
   "outputs": [
    {
     "data": {
      "text/plain": [
       "0    0.0\n",
       "1    1.0\n",
       "2    0.0\n",
       "3    1.0\n",
       "4    0.0\n",
       "Name: Prediction, dtype: float64"
      ]
     },
     "execution_count": 10,
     "metadata": {},
     "output_type": "execute_result"
    }
   ],
   "source": [
    "y_pred.head()"
   ]
  },
  {
   "cell_type": "markdown",
   "metadata": {},
   "source": [
    "# Training the Model"
   ]
  },
  {
   "cell_type": "markdown",
   "metadata": {},
   "source": [
    "### y_pred = final prediction\n",
    "### data =  features"
   ]
  },
  {
   "cell_type": "code",
   "execution_count": 11,
   "metadata": {},
   "outputs": [
    {
     "name": "stderr",
     "output_type": "stream",
     "text": [
      "Using TensorFlow backend.\n"
     ]
    }
   ],
   "source": [
    "from keras.models import Sequential\n",
    "from keras.layers import Dense"
   ]
  },
  {
   "cell_type": "code",
   "execution_count": 12,
   "metadata": {},
   "outputs": [],
   "source": [
    "model = Sequential()"
   ]
  },
  {
   "cell_type": "code",
   "execution_count": 13,
   "metadata": {},
   "outputs": [
    {
     "name": "stdout",
     "output_type": "stream",
     "text": [
      "WARNING:tensorflow:From /home/abhinav/anaconda3/lib/python3.7/site-packages/tensorflow/python/framework/op_def_library.py:263: colocate_with (from tensorflow.python.framework.ops) is deprecated and will be removed in a future version.\n",
      "Instructions for updating:\n",
      "Colocations handled automatically by placer.\n"
     ]
    }
   ],
   "source": [
    "model.add(Dense(32,activation = 'relu',input_dim=8))\n",
    "model.add(Dense(units = 16,activation = 'relu'))\n",
    "model.add(Dense(units = 16,activation = 'relu'))\n",
    "model.add(Dense(units = 1,activation = 'sigmoid'))\n",
    "\n",
    "model.compile(optimizer = 'adam' , loss = 'binary_crossentropy',metrics= ['accuracy'])"
   ]
  },
  {
   "cell_type": "code",
   "execution_count": 14,
   "metadata": {},
   "outputs": [],
   "source": [
    "from sklearn.model_selection import train_test_split as tts\n",
    "xtrain,xtest,ytrain,ytest = tts(data,y_pred,test_size=0.4,random_state = 0)"
   ]
  },
  {
   "cell_type": "code",
   "execution_count": 15,
   "metadata": {},
   "outputs": [
    {
     "name": "stdout",
     "output_type": "stream",
     "text": [
      "(57871, 8)\n",
      "(38581, 8)\n"
     ]
    }
   ],
   "source": [
    "print(xtrain.shape)\n",
    "print(xtest.shape)"
   ]
  },
  {
   "cell_type": "code",
   "execution_count": 16,
   "metadata": {},
   "outputs": [
    {
     "data": {
      "text/html": [
       "<div>\n",
       "<style scoped>\n",
       "    .dataframe tbody tr th:only-of-type {\n",
       "        vertical-align: middle;\n",
       "    }\n",
       "\n",
       "    .dataframe tbody tr th {\n",
       "        vertical-align: top;\n",
       "    }\n",
       "\n",
       "    .dataframe thead th {\n",
       "        text-align: right;\n",
       "    }\n",
       "</style>\n",
       "<table border=\"1\" class=\"dataframe\">\n",
       "  <thead>\n",
       "    <tr style=\"text-align: right;\">\n",
       "      <th></th>\n",
       "      <th>Summary</th>\n",
       "      <th>Precip Type</th>\n",
       "      <th>Temperature Gradient</th>\n",
       "      <th>Humidity</th>\n",
       "      <th>Wind Speed</th>\n",
       "      <th>Wind Bearing Gradient</th>\n",
       "      <th>Visibility</th>\n",
       "      <th>Pressure</th>\n",
       "    </tr>\n",
       "  </thead>\n",
       "  <tbody>\n",
       "    <tr>\n",
       "      <th>0</th>\n",
       "      <td>32</td>\n",
       "      <td>16.0</td>\n",
       "      <td>1.841959</td>\n",
       "      <td>6.88</td>\n",
       "      <td>0.446798</td>\n",
       "      <td>1.022284</td>\n",
       "      <td>-4.915</td>\n",
       "      <td>3.882452</td>\n",
       "    </tr>\n",
       "    <tr>\n",
       "      <th>1</th>\n",
       "      <td>64</td>\n",
       "      <td>16.0</td>\n",
       "      <td>1.851911</td>\n",
       "      <td>7.12</td>\n",
       "      <td>0.123046</td>\n",
       "      <td>0.846797</td>\n",
       "      <td>-4.645</td>\n",
       "      <td>3.883637</td>\n",
       "    </tr>\n",
       "    <tr>\n",
       "      <th>2</th>\n",
       "      <td>32</td>\n",
       "      <td>16.0</td>\n",
       "      <td>1.772293</td>\n",
       "      <td>6.64</td>\n",
       "      <td>0.441755</td>\n",
       "      <td>1.181058</td>\n",
       "      <td>-4.915</td>\n",
       "      <td>3.885434</td>\n",
       "    </tr>\n",
       "    <tr>\n",
       "      <th>3</th>\n",
       "      <td>64</td>\n",
       "      <td>16.0</td>\n",
       "      <td>1.883758</td>\n",
       "      <td>6.64</td>\n",
       "      <td>0.345940</td>\n",
       "      <td>0.972145</td>\n",
       "      <td>-4.915</td>\n",
       "      <td>3.885816</td>\n",
       "    </tr>\n",
       "    <tr>\n",
       "      <th>4</th>\n",
       "      <td>32</td>\n",
       "      <td>16.0</td>\n",
       "      <td>1.883758</td>\n",
       "      <td>6.80</td>\n",
       "      <td>0.437216</td>\n",
       "      <td>0.997214</td>\n",
       "      <td>-4.645</td>\n",
       "      <td>3.886389</td>\n",
       "    </tr>\n",
       "  </tbody>\n",
       "</table>\n",
       "</div>"
      ],
      "text/plain": [
       "   Summary  Precip Type  Temperature Gradient  Humidity  Wind Speed  \\\n",
       "0       32         16.0              1.841959      6.88    0.446798   \n",
       "1       64         16.0              1.851911      7.12    0.123046   \n",
       "2       32         16.0              1.772293      6.64    0.441755   \n",
       "3       64         16.0              1.883758      6.64    0.345940   \n",
       "4       32         16.0              1.883758      6.80    0.437216   \n",
       "\n",
       "   Wind Bearing Gradient  Visibility  Pressure  \n",
       "0               1.022284      -4.915  3.882452  \n",
       "1               0.846797      -4.645  3.883637  \n",
       "2               1.181058      -4.915  3.885434  \n",
       "3               0.972145      -4.915  3.885816  \n",
       "4               0.997214      -4.645  3.886389  "
      ]
     },
     "execution_count": 16,
     "metadata": {},
     "output_type": "execute_result"
    }
   ],
   "source": [
    "data.head()"
   ]
  },
  {
   "cell_type": "code",
   "execution_count": 17,
   "metadata": {},
   "outputs": [
    {
     "name": "stdout",
     "output_type": "stream",
     "text": [
      "WARNING:tensorflow:From /home/abhinav/anaconda3/lib/python3.7/site-packages/tensorflow/python/ops/math_ops.py:3066: to_int32 (from tensorflow.python.ops.math_ops) is deprecated and will be removed in a future version.\n",
      "Instructions for updating:\n",
      "Use tf.cast instead.\n",
      "Train on 57871 samples, validate on 38581 samples\n",
      "Epoch 1/4\n",
      "57871/57871 [==============================] - 0s 7us/step - loss: 3.0015 - acc: 0.7204 - val_loss: 2.0079 - val_acc: 0.7251\n",
      "Epoch 2/4\n",
      "57871/57871 [==============================] - 0s 2us/step - loss: 1.4887 - acc: 0.7204 - val_loss: 0.9177 - val_acc: 0.7251\n",
      "Epoch 3/4\n",
      "57871/57871 [==============================] - 0s 2us/step - loss: 0.7048 - acc: 0.7204 - val_loss: 0.4283 - val_acc: 0.7251\n",
      "Epoch 4/4\n",
      "57871/57871 [==============================] - 0s 2us/step - loss: 0.3684 - acc: 0.8471 - val_loss: 0.2961 - val_acc: 0.9985\n"
     ]
    },
    {
     "data": {
      "text/plain": [
       "<keras.callbacks.History at 0x7f88ec5d2f98>"
      ]
     },
     "execution_count": 17,
     "metadata": {},
     "output_type": "execute_result"
    }
   ],
   "source": [
    "model.fit(xtrain,ytrain,epochs=4,batch_size = 10000,validation_data = (xtest,ytest))"
   ]
  },
  {
   "cell_type": "code",
   "execution_count": 18,
   "metadata": {},
   "outputs": [
    {
     "name": "stdout",
     "output_type": "stream",
     "text": [
      "38581/38581 [==============================] - 1s 14us/step\n"
     ]
    }
   ],
   "source": [
    "predictions = model.predict(xtest)\n",
    "score = model.evaluate(xtest,ytest)"
   ]
  },
  {
   "cell_type": "code",
   "execution_count": 19,
   "metadata": {},
   "outputs": [
    {
     "name": "stdout",
     "output_type": "stream",
     "text": [
      "[0.2960979755989967, 0.9985225888390659]\n",
      "Saved model to disk\n"
     ]
    }
   ],
   "source": [
    "print(score)\n",
    "model_json=model.to_json()\n",
    "with open(\"model.json\", \"w\") as json_file:\n",
    "    json_file.write(model_json)\n",
    "# serialize weights to HDF5\n",
    "model.save_weights(\"model.h5\")\n",
    "print(\"Saved model to disk\")"
   ]
  },
  {
   "cell_type": "code",
   "execution_count": 20,
   "metadata": {},
   "outputs": [
    {
     "name": "stdout",
     "output_type": "stream",
     "text": [
      "Loaded model from disk\n"
     ]
    }
   ],
   "source": [
    "# load json and create model\n",
    "from keras.models import model_from_json\n",
    "json_file = open('model.json', 'r')\n",
    "loaded_model_json = json_file.read()\n",
    "json_file.close()\n",
    "loaded_model = model_from_json(loaded_model_json)\n",
    "# load weights into new model\n",
    "loaded_model.load_weights(\"model.h5\")\n",
    "print(\"Loaded model from disk\")\n",
    "#print(loaded_model_json)"
   ]
  },
  {
   "cell_type": "code",
   "execution_count": 21,
   "metadata": {},
   "outputs": [
    {
     "name": "stdout",
     "output_type": "stream",
     "text": [
      "acc: 99.85%\n"
     ]
    }
   ],
   "source": [
    "# evaluate loaded model on test data\n",
    "loaded_model.compile(loss='binary_crossentropy', optimizer='adam', metrics=['accuracy'])\n",
    "score = loaded_model.evaluate(xtest, ytest, verbose=0)\n",
    "print(\"%s: %.2f%%\" % (loaded_model.metrics_names[1], score[1]*100))"
   ]
  },
  {
   "cell_type": "code",
   "execution_count": 22,
   "metadata": {},
   "outputs": [],
   "source": [
    "from sklearn.linear_model import LogisticRegression\n",
    "from sklearn.neighbors import KNeighborsClassifier\n",
    "from sklearn.svm import SVC\n",
    "from sklearn.naive_bayes import MultinomialNB\n",
    "from sklearn.linear_model import SGDClassifier   \n",
    "from sklearn.discriminant_analysis import QuadraticDiscriminantAnalysis\n",
    "from sklearn.ensemble import RandomForestClassifier, AdaBoostClassifier\n",
    "import xgboost\n",
    "from sklearn.discriminant_analysis import LinearDiscriminantAnalysis\n",
    "from sklearn.naive_bayes import GaussianNB\n",
    "from sklearn.tree import DecisionTreeClassifier\n",
    "from sklearn.semi_supervised import LabelPropagation\n",
    "\n",
    "classifiers=[\n",
    "    \n",
    "    (LogisticRegression(penalty='l1', dual=False, tol=0.0001, C=100.0, fit_intercept=True,\n",
    "    intercept_scaling=10, class_weight=None, random_state=None, solver='warn', max_iter=10,\n",
    "    multi_class='warn', verbose=0, warm_start=False, n_jobs=None),\"Logistic Regression\"),\n",
    "    \n",
    "    \n",
    "    (KNeighborsClassifier(1),\"K Nearest Classifier \"),\n",
    "    \n",
    "    (SVC(C=50.0, cache_size=200, class_weight=None, coef0=0.0,\n",
    "    decision_function_shape='ovr', degree=3, gamma='auto', kernel='rbf',\n",
    "    max_iter=-1, probability=False, random_state=None, shrinking=True,\n",
    "    tol=0.001, verbose=False),'Support Vector Machine Classifier'),\n",
    "    \n",
    "    (QuadraticDiscriminantAnalysis(),'Qudratic Discriminant Analysis'),\n",
    "    \n",
    "    (RandomForestClassifier(max_depth=50, n_estimators=10, max_features=1),'Random Forest Classifier'),\n",
    "    \n",
    "    (AdaBoostClassifier(base_estimator=None, n_estimators=50, learning_rate=0.01,\n",
    "                        algorithm='SAMME.R', random_state=None),'Adaboost Classifier'),\n",
    "    (SGDClassifier(),'SGD Classifier'),\n",
    "    \n",
    "    (DecisionTreeClassifier(max_depth=5),'Decision Tree Classifier'),\n",
    "    (xgboost.XGBClassifier(learning_rate=0.1),'XG Boost Classifier'),\n",
    "    \n",
    "    (LinearDiscriminantAnalysis(solver='svd', shrinkage=None, priors=None, n_components=None, \n",
    "        store_covariance=False,tol=0.00001),'Linear Discriminant Analysis'),\n",
    "     \n",
    "    (GaussianNB(),'Gaussian Naive Bayes ')\n",
    "]"
   ]
  },
  {
   "cell_type": "code",
   "execution_count": 23,
   "metadata": {},
   "outputs": [
    {
     "name": "stderr",
     "output_type": "stream",
     "text": [
      "/home/abhinav/anaconda3/lib/python3.7/site-packages/sklearn/linear_model/logistic.py:433: FutureWarning: Default solver will be changed to 'lbfgs' in 0.22. Specify a solver to silence this warning.\n",
      "  FutureWarning)\n",
      "/home/abhinav/anaconda3/lib/python3.7/site-packages/sklearn/svm/base.py:922: ConvergenceWarning: Liblinear failed to converge, increase the number of iterations.\n",
      "  \"the number of iterations.\", ConvergenceWarning)\n",
      "/home/abhinav/anaconda3/lib/python3.7/site-packages/sklearn/discriminant_analysis.py:692: UserWarning: Variables are collinear\n",
      "  warnings.warn(\"Variables are collinear\")\n",
      "/home/abhinav/anaconda3/lib/python3.7/site-packages/sklearn/discriminant_analysis.py:716: RuntimeWarning: divide by zero encountered in power\n",
      "  X2 = np.dot(Xm, R * (S ** (-0.5)))\n",
      "/home/abhinav/anaconda3/lib/python3.7/site-packages/sklearn/discriminant_analysis.py:716: RuntimeWarning: invalid value encountered in multiply\n",
      "  X2 = np.dot(Xm, R * (S ** (-0.5)))\n",
      "/home/abhinav/anaconda3/lib/python3.7/site-packages/sklearn/discriminant_analysis.py:719: RuntimeWarning: divide by zero encountered in log\n",
      "  u = np.asarray([np.sum(np.log(s)) for s in self.scalings_])\n",
      "/home/abhinav/anaconda3/lib/python3.7/site-packages/sklearn/linear_model/stochastic_gradient.py:166: FutureWarning: max_iter and tol parameters have been added in SGDClassifier in 0.19. If both are left unset, they default to max_iter=5 and tol=None. If tol is not None, max_iter defaults to max_iter=1000. From 0.21, default max_iter will be 1000, and default tol will be 1e-3.\n",
      "  FutureWarning)\n"
     ]
    }
   ],
   "source": [
    "score=[];names=[]\n",
    "from sklearn.metrics import accuracy_score\n",
    "for model_inp,name in classifiers:\n",
    "    clf=model_inp.fit(xtrain,ytrain)\n",
    "    y_pred=clf.predict(xtest)\n",
    "    score.append(accuracy_score(y_pred,ytest))"
   ]
  },
  {
   "cell_type": "code",
   "execution_count": 24,
   "metadata": {},
   "outputs": [
    {
     "name": "stdout",
     "output_type": "stream",
     "text": [
      "[0.9997926440475882, 1.0, 1.0, 0.2748762344159042, 0.9999740805059485, 1.0, 1.0, 1.0, 1.0, 0.9794717607112309, 0.9967600632435655]\n"
     ]
    }
   ],
   "source": [
    "print(score)"
   ]
  },
  {
   "cell_type": "code",
   "execution_count": 25,
   "metadata": {},
   "outputs": [
    {
     "name": "stdout",
     "output_type": "stream",
     "text": [
      "[99.97926440475882, 100.0, 100.0, 27.48762344159042, 99.99740805059486, 100.0, 100.0, 100.0, 100.0, 97.94717607112308, 99.67600632435655]\n"
     ]
    }
   ],
   "source": [
    "for i in range(len(score)):\n",
    "    score[i]=score[i]*100\n",
    "print(score)"
   ]
  },
  {
   "cell_type": "code",
   "execution_count": 28,
   "metadata": {},
   "outputs": [
    {
     "data": {
      "image/png": "[encoded data removed]",
      "text/plain": [
       "<Figure size 432x288 with 1 Axes>"
      ]
     },
     "metadata": {
      "needs_background": "light"
     },
     "output_type": "display_data"
    }
   ],
   "source": [
    "names=['LR','KNC','SVC','QDA','RFC','ADC','SGDC','DTC','XGB','LDA','GNB']\n",
    "import seaborn as sns\n",
    "from matplotlib import pyplot as plt\n",
    "fig = plt.figure()\n",
    "ax = fig.add_subplot(111)\n",
    "A = score[:]\n",
    "plt.plot(A)\n",
    "for i, label in enumerate(names):\n",
    "    plt.text(i,A[i], label)\n",
    "plt.show()"
   ]
  },
  {
   "cell_type": "code",
   "execution_count": 27,
   "metadata": {},
   "outputs": [
    {
     "name": "stdout",
     "output_type": "stream",
     "text": [
      "_________________________________________________________________\n",
      "Layer (type)                 Output Shape              Param #   \n",
      "=================================================================\n",
      "dense_1 (Dense)              (None, 32)                288       \n",
      "_________________________________________________________________\n",
      "dense_2 (Dense)              (None, 16)                528       \n",
      "_________________________________________________________________\n",
      "dense_3 (Dense)              (None, 16)                272       \n",
      "_________________________________________________________________\n",
      "dense_4 (Dense)              (None, 1)                 17        \n",
      "=================================================================\n",
      "Total params: 1,105\n",
      "Trainable params: 1,105\n",
      "Non-trainable params: 0\n",
      "_________________________________________________________________\n"
     ]
    }
   ],
   "source": [
    "model.summary()"
   ]
  },
  {
   "cell_type": "code",
   "execution_count": null,
   "metadata": {},
   "outputs": [],
   "source": []
  }
 ],
 "metadata": {
  "kernelspec": {
   "display_name": "Python 3",
   "language": "python",
   "name": "python3"
  },
  "language_info": {
   "codemirror_mode": {
    "name": "ipython",
    "version": 3
   },
   "file_extension": ".py",
   "mimetype": "text/x-python",
   "name": "python",
   "nbconvert_exporter": "python",
   "pygments_lexer": "ipython3",
   "version": "3.7.1"
  }
 },
 "nbformat": 4,
 "nbformat_minor": 2
}
