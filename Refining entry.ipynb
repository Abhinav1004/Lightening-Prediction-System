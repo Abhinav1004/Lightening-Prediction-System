{
 "cells": [
  {
   "cell_type": "code",
   "execution_count": 4,
   "metadata": {},
   "outputs": [],
   "source": [
    "import pandas as pd\n"
   ]
  },
  {
   "cell_type": "code",
   "execution_count": 5,
   "metadata": {},
   "outputs": [],
   "source": [
    "df=pd.read_json('response.json')"
   ]
  },
  {
   "cell_type": "code",
   "execution_count": 18,
   "metadata": {},
   "outputs": [],
   "source": [
    "#df.head(30)"
   ]
  },
  {
   "cell_type": "code",
   "execution_count": 9,
   "metadata": {},
   "outputs": [],
   "source": [
    "df_first=df['currently']"
   ]
  },
  {
   "cell_type": "code",
   "execution_count": 19,
   "metadata": {},
   "outputs": [],
   "source": [
    "#df_first.head(23)"
   ]
  },
  {
   "cell_type": "code",
   "execution_count": 17,
   "metadata": {},
   "outputs": [
    {
     "name": "stdout",
     "output_type": "stream",
     "text": [
      "[16, 0, 53.68, 0.93, 0.32, 143, 8.75, 1013.05]\n"
     ]
    }
   ],
   "source": [
    "lisa=[16]\n",
    "lisa.append(df_first['precipIntensity']);\n",
    "lisa.append(df_first['temperature']);\n",
    "lisa.append(df_first['humidity']);\n",
    "lisa.append(df_first['windSpeed']);\n",
    "lisa.append(df_first['windBearing']);\n",
    "lisa.append(df_first['visibility']);\n",
    "lisa.append(df_first['pressure']);\n",
    "print(lisa)"
   ]
  },
  {
   "cell_type": "code",
   "execution_count": null,
   "metadata": {},
   "outputs": [],
   "source": [
    "#Copy the below function only\n",
    "def convert_json_list(json_file):\n",
    "    df=pd.read_json('response.json')\n",
    "    df_first=df['currently']\n",
    "    lisa=[16]\n",
    "    lisa.append(df_first['precipIntensity']);\n",
    "    lisa.append(df_first['temperature']);\n",
    "    lisa.append(df_first['humidity']);\n",
    "    lisa.append(df_first['windSpeed']);\n",
    "    lisa.append(df_first['windBearing']);\n",
    "    lisa.append(df_first['visibility']);\n",
    "    lisa.append(df_first['pressure']);\n",
    "    return lisa"
   ]
  }
 ],
 "metadata": {
  "kernelspec": {
   "display_name": "Python 3",
   "language": "python",
   "name": "python3"
  },
  "language_info": {
   "codemirror_mode": {
    "name": "ipython",
    "version": 3
   },
   "file_extension": ".py",
   "mimetype": "text/x-python",
   "name": "python",
   "nbconvert_exporter": "python",
   "pygments_lexer": "ipython3",
   "version": "3.7.1"
  }
 },
 "nbformat": 4,
 "nbformat_minor": 2
}
